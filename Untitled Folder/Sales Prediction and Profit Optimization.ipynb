{
 "cells": [
  {
   "cell_type": "markdown",
   "metadata": {},
   "source": [
    "# How to maximize our profit by controling our spendings on marketing channels and price? \n",
    "\n",
    "When having a budget of marketing, you must want to know how much you should spend on each channel! Also, pricing strategy is another big problem. How to decide prices to maximize your profit? Or you have built a model to predict sales, but what then? Now you get the answer!\n",
    "## Brief\n",
    "<cd>The basic idea of this notebook is to use __non linear regression__ to detect the relation between sales(the y variable) and price(x variable) as well as spendings on different channels(also x variable).Then we can use the function among sales, price, cost,and profits to optimize profits by controling the marketing channel spendings and price.\n",
    "<cd>The data is quite easy to understnd. It shows the spendings of different channels and the price as well as sales. We will choose 2 channels and price as the independent variables to make our model simple and thus avoid overfitting. But if you like, you can add more channels into your model, and the code would be same. \n",
    "<cd> Although there already is a package to run non linear model, sometimes it does not work. Therefore, I will show you how to do non linear model __step by step__ instead of just one-line code.\n"
   ]
  },
  {
   "cell_type": "markdown",
   "metadata": {},
   "source": [
    "## Data Preparation"
   ]
  },
  {
   "cell_type": "code",
   "execution_count": 20,
   "metadata": {},
   "outputs": [],
   "source": [
    "library(numDeriv)\n",
    "library(GenSA)\n",
    "library(corrplot)\n",
    "library(ggplot2)\n",
    "library(Rmisc)"
   ]
  },
  {
   "cell_type": "code",
   "execution_count": 5,
   "metadata": {},
   "outputs": [],
   "source": [
    "data=read.csv(\"class_data.csv\", header=T)    # read csv file and label the data as \"data\"\n",
    "time=data[,1]\n",
    "sales=data[,2]\n",
    "price=data[,3]\n",
    "tv=data[,4]\n",
    "print=data[,5]\n",
    "radio=data[,6]\n",
    "psearch=data[,7]\n",
    "psocial=data[,8]\n",
    "shopper=data[,9]\n",
    "ntdola=data[,10]\n",
    "ntdolv=data[,11]\n",
    "tdola=data[,12]\n",
    "tdolv=data[,13]\n",
    "email=data[,14]\n",
    "linqia=data[,15]\n",
    "linqia_shopper=data[,16]\n",
    "dfsi=data[,17]\n",
    "newsfsi=data[,18]\n",
    "wmx=data[,19]"
   ]
  },
  {
   "cell_type": "code",
   "execution_count": 10,
   "metadata": {
    "scrolled": false
   },
   "outputs": [
    {
     "data": {
      "text/html": [
       "<table>\n",
       "<thead><tr><th scope=col>Week.id</th><th scope=col>Unit.Volume</th><th scope=col>Price</th><th scope=col>TV.Spend</th><th scope=col>Print.Spend</th><th scope=col>Radio.Spend</th><th scope=col>Paid.Search.Spend</th><th scope=col>Paid.Social.Spend</th><th scope=col>Shopper.Marketing.Spend</th><th scope=col>Non.Trading.Desk.OLA.Spend</th><th scope=col>Non.Trading.Desk.OLV.Spend</th><th scope=col>Trading.Desk.OLA.Spend</th><th scope=col>Trading.Desk.OLV.Spend</th><th scope=col>Email.Spend</th><th scope=col>Linqia.Spend</th><th scope=col>Linqia.Shopper.Spend</th><th scope=col>Digital.FSI.Spend</th><th scope=col>Newspaper.FSI..Spend</th><th scope=col>WMX.Spend</th></tr></thead>\n",
       "<tbody>\n",
       "\t<tr><td>1      </td><td> 985259</td><td>17.49  </td><td>726337 </td><td>22986  </td><td>0      </td><td>55432  </td><td>23260  </td><td>0      </td><td>50136  </td><td>0      </td><td>79003  </td><td>12646  </td><td> 2386  </td><td>0      </td><td>0      </td><td>     0 </td><td>      0</td><td>0      </td></tr>\n",
       "\t<tr><td>2      </td><td>1367286</td><td>17.54  </td><td>698413 </td><td>22986  </td><td>0      </td><td>77326  </td><td> 7162  </td><td>0      </td><td>27368  </td><td>0      </td><td>88510  </td><td>12112  </td><td> 6154  </td><td>0      </td><td>0      </td><td>  4400 </td><td>      0</td><td>0      </td></tr>\n",
       "\t<tr><td>3      </td><td>1297843</td><td>17.59  </td><td>610776 </td><td>22986  </td><td>0      </td><td>84728  </td><td> 6642  </td><td>0      </td><td>37969  </td><td>0      </td><td>68250  </td><td>11552  </td><td> 5271  </td><td>0      </td><td>0      </td><td> 26000 </td><td>1255000</td><td>0      </td></tr>\n",
       "\t<tr><td>4      </td><td>1233077</td><td>17.50  </td><td>656865 </td><td>22986  </td><td>0      </td><td>86626  </td><td> 3397  </td><td>0      </td><td>39472  </td><td>0      </td><td>49864  </td><td>11311  </td><td>16865  </td><td>0      </td><td>0      </td><td>     0 </td><td>      0</td><td>0      </td></tr>\n",
       "\t<tr><td>5      </td><td>1507481</td><td>17.86  </td><td>803211 </td><td>34019  </td><td>0      </td><td>84499  </td><td> 2882  </td><td>0      </td><td>25806  </td><td>0      </td><td>68749  </td><td>11246  </td><td> 2611  </td><td>0      </td><td>0      </td><td>201400 </td><td>      0</td><td>0      </td></tr>\n",
       "\t<tr><td>6      </td><td>1421993</td><td>17.00  </td><td>650643 </td><td>34019  </td><td>0      </td><td>90869  </td><td>11603  </td><td>0      </td><td>57074  </td><td>0      </td><td>96876  </td><td>10989  </td><td> 9891  </td><td>0      </td><td>0      </td><td> 12500 </td><td>  59600</td><td>0      </td></tr>\n",
       "</tbody>\n",
       "</table>\n"
      ],
      "text/latex": [
       "\\begin{tabular}{r|lllllllllllllllllll}\n",
       " Week.id & Unit.Volume & Price & TV.Spend & Print.Spend & Radio.Spend & Paid.Search.Spend & Paid.Social.Spend & Shopper.Marketing.Spend & Non.Trading.Desk.OLA.Spend & Non.Trading.Desk.OLV.Spend & Trading.Desk.OLA.Spend & Trading.Desk.OLV.Spend & Email.Spend & Linqia.Spend & Linqia.Shopper.Spend & Digital.FSI.Spend & Newspaper.FSI..Spend & WMX.Spend\\\\\n",
       "\\hline\n",
       "\t 1       &  985259 & 17.49   & 726337  & 22986   & 0       & 55432   & 23260   & 0       & 50136   & 0       & 79003   & 12646   &  2386   & 0       & 0       &      0  &       0 & 0      \\\\\n",
       "\t 2       & 1367286 & 17.54   & 698413  & 22986   & 0       & 77326   &  7162   & 0       & 27368   & 0       & 88510   & 12112   &  6154   & 0       & 0       &   4400  &       0 & 0      \\\\\n",
       "\t 3       & 1297843 & 17.59   & 610776  & 22986   & 0       & 84728   &  6642   & 0       & 37969   & 0       & 68250   & 11552   &  5271   & 0       & 0       &  26000  & 1255000 & 0      \\\\\n",
       "\t 4       & 1233077 & 17.50   & 656865  & 22986   & 0       & 86626   &  3397   & 0       & 39472   & 0       & 49864   & 11311   & 16865   & 0       & 0       &      0  &       0 & 0      \\\\\n",
       "\t 5       & 1507481 & 17.86   & 803211  & 34019   & 0       & 84499   &  2882   & 0       & 25806   & 0       & 68749   & 11246   &  2611   & 0       & 0       & 201400  &       0 & 0      \\\\\n",
       "\t 6       & 1421993 & 17.00   & 650643  & 34019   & 0       & 90869   & 11603   & 0       & 57074   & 0       & 96876   & 10989   &  9891   & 0       & 0       &  12500  &   59600 & 0      \\\\\n",
       "\\end{tabular}\n"
      ],
      "text/markdown": [
       "\n",
       "Week.id | Unit.Volume | Price | TV.Spend | Print.Spend | Radio.Spend | Paid.Search.Spend | Paid.Social.Spend | Shopper.Marketing.Spend | Non.Trading.Desk.OLA.Spend | Non.Trading.Desk.OLV.Spend | Trading.Desk.OLA.Spend | Trading.Desk.OLV.Spend | Email.Spend | Linqia.Spend | Linqia.Shopper.Spend | Digital.FSI.Spend | Newspaper.FSI..Spend | WMX.Spend | \n",
       "|---|---|---|---|---|---|\n",
       "| 1       |  985259 | 17.49   | 726337  | 22986   | 0       | 55432   | 23260   | 0       | 50136   | 0       | 79003   | 12646   |  2386   | 0       | 0       |      0  |       0 | 0       | \n",
       "| 2       | 1367286 | 17.54   | 698413  | 22986   | 0       | 77326   |  7162   | 0       | 27368   | 0       | 88510   | 12112   |  6154   | 0       | 0       |   4400  |       0 | 0       | \n",
       "| 3       | 1297843 | 17.59   | 610776  | 22986   | 0       | 84728   |  6642   | 0       | 37969   | 0       | 68250   | 11552   |  5271   | 0       | 0       |  26000  | 1255000 | 0       | \n",
       "| 4       | 1233077 | 17.50   | 656865  | 22986   | 0       | 86626   |  3397   | 0       | 39472   | 0       | 49864   | 11311   | 16865   | 0       | 0       |      0  |       0 | 0       | \n",
       "| 5       | 1507481 | 17.86   | 803211  | 34019   | 0       | 84499   |  2882   | 0       | 25806   | 0       | 68749   | 11246   |  2611   | 0       | 0       | 201400  |       0 | 0       | \n",
       "| 6       | 1421993 | 17.00   | 650643  | 34019   | 0       | 90869   | 11603   | 0       | 57074   | 0       | 96876   | 10989   |  9891   | 0       | 0       |  12500  |   59600 | 0       | \n",
       "\n",
       "\n"
      ],
      "text/plain": [
       "  Week.id Unit.Volume Price TV.Spend Print.Spend Radio.Spend Paid.Search.Spend\n",
       "1 1        985259     17.49 726337   22986       0           55432            \n",
       "2 2       1367286     17.54 698413   22986       0           77326            \n",
       "3 3       1297843     17.59 610776   22986       0           84728            \n",
       "4 4       1233077     17.50 656865   22986       0           86626            \n",
       "5 5       1507481     17.86 803211   34019       0           84499            \n",
       "6 6       1421993     17.00 650643   34019       0           90869            \n",
       "  Paid.Social.Spend Shopper.Marketing.Spend Non.Trading.Desk.OLA.Spend\n",
       "1 23260             0                       50136                     \n",
       "2  7162             0                       27368                     \n",
       "3  6642             0                       37969                     \n",
       "4  3397             0                       39472                     \n",
       "5  2882             0                       25806                     \n",
       "6 11603             0                       57074                     \n",
       "  Non.Trading.Desk.OLV.Spend Trading.Desk.OLA.Spend Trading.Desk.OLV.Spend\n",
       "1 0                          79003                  12646                 \n",
       "2 0                          88510                  12112                 \n",
       "3 0                          68250                  11552                 \n",
       "4 0                          49864                  11311                 \n",
       "5 0                          68749                  11246                 \n",
       "6 0                          96876                  10989                 \n",
       "  Email.Spend Linqia.Spend Linqia.Shopper.Spend Digital.FSI.Spend\n",
       "1  2386       0            0                         0           \n",
       "2  6154       0            0                      4400           \n",
       "3  5271       0            0                     26000           \n",
       "4 16865       0            0                         0           \n",
       "5  2611       0            0                    201400           \n",
       "6  9891       0            0                     12500           \n",
       "  Newspaper.FSI..Spend WMX.Spend\n",
       "1       0              0        \n",
       "2       0              0        \n",
       "3 1255000              0        \n",
       "4       0              0        \n",
       "5       0              0        \n",
       "6   59600              0        "
      ]
     },
     "metadata": {},
     "output_type": "display_data"
    }
   ],
   "source": [
    "head(data)"
   ]
  },
  {
   "cell_type": "code",
   "execution_count": 21,
   "metadata": {},
   "outputs": [],
   "source": [
    "## Choosing 1 price and 2 spends, here we tv and radio\n",
    "zsales=sales/sd(sales)\n",
    "zprice=price/sd(price) #price\n",
    "ztv=tv/sd(tv) #spend1\n",
    "zradio=radio/sd(radio) #spend2"
   ]
  },
  {
   "cell_type": "markdown",
   "metadata": {},
   "source": [
    "## EDA"
   ]
  },
  {
   "cell_type": "code",
   "execution_count": 22,
   "metadata": {
    "scrolled": true
   },
   "outputs": [
    {
     "data": {
      "text/plain": [
       "     sales             price            tv             radio       \n",
       " Min.   : 864161   Min.   :15.5   Min.   :     0   Min.   :     0  \n",
       " 1st Qu.:1367286   1st Qu.:17.6   1st Qu.:322421   1st Qu.:     0  \n",
       " Median :1709621   Median :17.9   Median :350694   Median :     0  \n",
       " Mean   :1891768   Mean   :17.9   Mean   :423581   Mean   : 34770  \n",
       " 3rd Qu.:2048239   3rd Qu.:18.4   3rd Qu.:544769   3rd Qu.:     0  \n",
       " Max.   :6622872   Max.   :19.2   Max.   :803211   Max.   :193401  "
      ]
     },
     "metadata": {},
     "output_type": "display_data"
    },
    {
     "data": {
      "image/png": "[encoded data removed]",
      "text/plain": [
       "Plot with title \"Histogram of radio\""
      ]
     },
     "metadata": {},
     "output_type": "display_data"
    }
   ],
   "source": [
    "# Data Visualization\n",
    "zvar <- data.frame(sales,price,tv,radio)\n",
    "summary(zvar) # data summary\n",
    "\n",
    "par(mfrow=c(2,2)) # histogram of variables\n",
    "sales_hist <- hist(sales)\n",
    "price_hist <- hist(price)\n",
    "tv_hist <- hist(tv)\n",
    "radio_hist <- hist(radio)\n",
    "par(mfrow=c(1,1))"
   ]
  },
  {
   "cell_type": "code",
   "execution_count": 23,
   "metadata": {
    "scrolled": true
   },
   "outputs": [
    {
     "data": {
      "image/png": "[encoded data removed]",
      "text/plain": [
       "Plot with title \"\""
      ]
     },
     "metadata": {},
     "output_type": "display_data"
    }
   ],
   "source": [
    "corrplot(cor(data), method = \"color\") # correaltion heatmap"
   ]
  },
  {
   "cell_type": "code",
   "execution_count": 25,
   "metadata": {
    "scrolled": true
   },
   "outputs": [
    {
     "data": {
      "image/png": "[encoded data removed]",
      "text/plain": [
       "plot without title"
      ]
     },
     "metadata": {},
     "output_type": "display_data"
    }
   ],
   "source": [
    "sale_scatter1 <- ggplot(data, aes(x=Week.id,y=Unit.Volume))+\n",
    "  geom_point()+\n",
    "  geom_smooth(method='loess', se=FALSE, color='#DD8888')+\n",
    "  scale_x_continuous(breaks=seq(0,65,5))+\n",
    "  ggtitle('Time plot on Sales')+\n",
    "  labs(x='Week', y='Sales')+\n",
    "  theme(plot.title=element_text(face='bold', hjust=0.5))\n",
    "\n",
    "sale_scatter2 <- ggplot(data, aes(x=Price,y=Unit.Volume))+\n",
    "  geom_point()+\n",
    "  geom_smooth(method='loess', se=FALSE, color='#DD8888')+\n",
    "  ggtitle('Sales V.S. Price Scatter Plots')+\n",
    "  labs(x='Price', y='Sales')+\n",
    "  theme(plot.title=element_text(face='bold', hjust=0.5))\n",
    "\n",
    "sale_scatter3 <- ggplot(data, aes(x=TV.Spend,y=Unit.Volume))+\n",
    "  geom_point()+\n",
    "  geom_smooth(method='loess', se=FALSE, color='#DD8888')+\n",
    "  ggtitle('Sales V.S. TV Spend Scatter Plots')+\n",
    "  labs(x='TV Spend', y='Sales')+\n",
    "  theme(plot.title=element_text(face='bold', hjust=0.5))\n",
    "\n",
    "sale_scatter4 <- ggplot(data, aes(x=Radio.Spend,y=Unit.Volume))+\n",
    "  geom_point()+\n",
    "  ggtitle('Sales V.S. Radio Spend Scatter Plots')+\n",
    "  labs(x='Radio Spend', y='Sales')+\n",
    "  theme(plot.title=element_text(face='bold', hjust=0.5))\n",
    "\n",
    "multiplot(sale_scatter1, sale_scatter2, sale_scatter3, sale_scatter4, cols=2)"
   ]
  },
  {
   "cell_type": "markdown",
   "metadata": {},
   "source": [
    "## Model Building"
   ]
  },
  {
   "cell_type": "markdown",
   "metadata": {},
   "source": [
    "There are various types of non linear relations such as exponential decay and concave. We cannot detect the exact type before running a model. Therefore, I will run two models with denoting different non linear relations to the same variables. "
   ]
  },
  {
   "cell_type": "markdown",
   "metadata": {},
   "source": [
    "### Model 1"
   ]
  },
  {
   "cell_type": "code",
   "execution_count": 33,
   "metadata": {},
   "outputs": [],
   "source": [
    "######## Model 1: price (Exponential Decay), spend1(concave), spend2(concave) ######## \n",
    "\n",
    "#here b is the parameters vector\n",
    "nlsmean=function(b) {\n",
    "  mu <- b[1]+b[2]/exp(zprice*b[3]) + b[4]*(ztv)^b[5] + b[6]*(zradio)^b[7]\n",
    "  return(mu)}\n",
    "# Specify SSE function\n",
    "sse=function(b) {\n",
    "  sse=sum((zsales-nlsmean(b))^2)\n",
    "}\n"
   ]
  },
  {
   "cell_type": "code",
   "execution_count": 34,
   "metadata": {},
   "outputs": [],
   "source": [
    "# Set starting values\n",
    "par=c(1,1,1,1,1,1,1)\t\t\t\t\t\t\t\t  # starting values for the global optimizer\n",
    "lower=c(-15,-15,-3,-15,-3,-15,-3)  \t\t\t\t# lower bounds on parameter values\n",
    "upper=c(15,15,3,15,3,15,3)              # upper bounds on parameter values\n",
    "out=GenSA(par, fn=sse, lower = lower, upper = upper)\t\t\t# GenSA = Generalized Simulated Annealing bring us near the neighborhood of global solutions\n"
   ]
  },
  {
   "cell_type": "code",
   "execution_count": 35,
   "metadata": {},
   "outputs": [],
   "source": [
    "# Nonlinear Regression from first principles\n",
    "par=out$par\t\t\t\t\t\t\t\t\t\t\t\t   # use GenSA solution as the starting values for nls()\n",
    "fit=optim(par, sse, method = \"BFGS\", hessian = T) \t# optim = solver that minimizes a specified fcn (here sse)\n",
    "est=fit$par\t\t\t\t\t\t\t\t\t# final estimates from optim solver"
   ]
  },
  {
   "cell_type": "markdown",
   "metadata": {},
   "source": [
    "### Model 1 Evaluation"
   ]
  },
  {
   "cell_type": "code",
   "execution_count": 36,
   "metadata": {},
   "outputs": [],
   "source": [
    "# Inference: Used for Confidence Intervals\n",
    "nn=ncol(t(zsales))\t\t\t\t\t\t\t\t# sample size\n",
    "pp=ncol(t(est))\t\t\t\t\t\t\t\t# number of parameters\n",
    "yhat=nlsmean(est)\t\t\t\t\t\t\t\t# forecast zsales\n",
    "err=zsales-yhat\t\t\t\t\t\t\t\t# residuals\n",
    "sig2=sum(err^2) /(nn-pp)\t\t\t\t\t\t# sigma^2 of error term\n",
    "jmat=jacobian(nlsmean,est)\t\t\t\t\t\t# jmat = gradient of the mean function at the estimated parameters\n",
    "varp=sig2*solve(t(jmat) %*% jmat+0.1*diag(7)) \t\t# variance-covariance matrix of parameters. I added small ridge regularization\tto ensure inverse\n",
    "se=sqrt(diag(varp))\t\t\t\t\t\t\t# diag elements are variances, sqrt makes them std dev\n",
    "tvals=est/se\t\t\t\t\t\t\t\t\t# tvals for inference: abs(tval) > 1. 65 => 90% confidence level; abs(tval) > 1.96 => 95% CI"
   ]
  },
  {
   "cell_type": "code",
   "execution_count": 37,
   "metadata": {},
   "outputs": [],
   "source": [
    "# Information Criteria: Used for Model Selection\n",
    "aic = nn*log(sig2) + 2*pp\t\t\t\t\t\t# Use when nn is large (i.e., pp/nn < 5%), the smaller the better the model is\n",
    "aicc = nn*log(sig2) + nn*(nn+pp)/(nn-pp-2)\t\t\t# Use when pp/nn > 5% => invented by Prof. Tsai at GSM and Hurvich at NYU\n",
    "bic = nn*log(sig2) + pp*log(nn)\t\t\t\t\t# Use when nn is large (i.e., pp/nn < 5%)\n"
   ]
  },
  {
   "cell_type": "code",
   "execution_count": 39,
   "metadata": {},
   "outputs": [
    {
     "name": "stdout",
     "output_type": "stream",
     "text": [
      "\n",
      "model1 - price (Exponential Decay), spend1(concave), spend2(concave) - est, std err, tvals:\n",
      "       est       se    tvals\n",
      "1 -8.45577 2.513996 -3.36348\n",
      "2 15.00000 2.447415  6.12891\n",
      "3  0.01509 0.009465  1.59440\n",
      "4  0.67298 0.834263  0.80668\n",
      "5  0.14788 0.367749  0.40211\n",
      "6  1.26001 0.439593  2.86632\n",
      "7  0.03198 0.425651  0.07513\n",
      "\n",
      "model1 - price (Exponential Decay), spend1(concave), spend2(concave) - model selection, tvals:\n",
      "    aic  aicc   bic\n",
      "1 -6.06 63.51 9.161\n"
     ]
    }
   ],
   "source": [
    "# summary of est, std err, tvals\n",
    "model1 <<- data.frame(est, se, tvals)\n",
    "cat('\\nmodel1 - price (Exponential Decay), spend1(concave), spend2(concave) - est, std err, tvals:\\n')\n",
    "print(model1)\n",
    "\n",
    "model1_c <<- data.frame(aic, aicc, bic)\n",
    "cat('\\nmodel1 - price (Exponential Decay), spend1(concave), spend2(concave) - model selection, tvals:\\n')\n",
    "print(model1_c)\n",
    "\n",
    "pp_nn1<<- pp/nn"
   ]
  },
  {
   "cell_type": "markdown",
   "metadata": {},
   "source": [
    "### Model 2 Building and Evaluation"
   ]
  },
  {
   "cell_type": "markdown",
   "metadata": {},
   "source": [
    "The overall code is same as that of model 1, so I would put all code together in one cell. However, please notice that in the model building part, the non linear expressions are different!"
   ]
  },
  {
   "cell_type": "code",
   "execution_count": 41,
   "metadata": {},
   "outputs": [
    {
     "name": "stdout",
     "output_type": "stream",
     "text": [
      "\n",
      "model2 - price (Hyperbolic Decay), spend1(concave), spend2(concave) - est, std err, tvals:\n",
      "       est     se    tvals\n",
      "1  -2.9525 0.7755 -3.80707\n",
      "2 120.7255 2.6875 44.92115\n",
      "3   0.6827 0.8083  0.84463\n",
      "4   0.1474 0.3573  0.41244\n",
      "5   1.2596 0.4362  2.88786\n",
      "6   0.0301 0.4231  0.07115\n",
      "\n",
      "model2 - price (Exponential Decay), spend1(concave), spend2(concave) - model selection, tvals:\n",
      "     aic  aicc   bic\n",
      "1 -9.031 59.93 4.015\n"
     ]
    }
   ],
   "source": [
    "######## Model 2: price (Hyperbolic Decay), spend1(concave), spend2(concave) ######## \n",
    "#######notice here, the nlsmean function is different!\n",
    "nlsmean=function(b) {\n",
    "  mu <- b[1]+b[2]/(zprice) + b[3]*(ztv)^b[4] + b[5]*(zradio)^b[6]\n",
    "  return(mu)\n",
    "}\n",
    "\n",
    "# a. Specify SSE function\n",
    "sse=function(b) {\n",
    "  sse=sum((zsales-nlsmean(b))^2)\n",
    "}\n",
    "\n",
    "# b. Set starting values\n",
    "par=c(1,1,1,1,1,1)\t\t\t\t\t\t\t\t  # starting values for the global optimizer\n",
    "lower=c(-15,-15,-3,-15,-3,-15)  \t\t\t\t# lower bounds on parameter values\n",
    "upper=c(15,15,3,15,3,15)     \t\t\t\t\t# upper bounds on parameter values\n",
    "out=GenSA(par, sse, lower, upper)\t\t\t# GenSA = Generalized Simulated Annealing bring us near the neighborhood of global solutions\n",
    "\n",
    "# c. Nonlinear Regression from first principles\n",
    "bb=out$par\n",
    "par=bb\t\t\t\t\t\t\t\t\t\t\t\t   # use GenSA solution as the starting values for nls()\n",
    "fit=optim(par, sse, method = \"BFGS\", hessian = T) \t# optim = solver that minimizes a specified fcn (here sse)\n",
    "est=fit$par\t\t\t\t\t\t\t\t\t# final estimates from optim solver\n",
    "\n",
    "# d. Inference: Used for Confidence Intervals\n",
    "nn=ncol(t(zsales))\t\t\t\t\t\t\t\t# sample size\n",
    "pp=ncol(t(est))\t\t\t\t\t\t\t\t# number of parameters\n",
    "yhat=nlsmean(est)\t\t\t\t\t\t\t\t# forecast zsales\n",
    "err=zsales-yhat\t\t\t\t\t\t\t\t# residuals\n",
    "sig2=sum(err^2) /(nn-pp)\t\t\t\t\t\t# sigma^2 of error term\n",
    "jmat=jacobian(nlsmean,est)\t\t\t\t\t\t# jmat = gradient of the mean function at the estimated parameters\n",
    "varp=sig2*solve(t(jmat) %*% jmat+0.1*diag(6)) \t\t# variance-covariance matrix of parameters. I added small ridge regularization\tto ensure inverse\n",
    "se=sqrt(diag(varp))\t\t\t\t\t\t\t# diag elements are variances, sqrt makes them std dev\n",
    "tvals=est/se\t\t\t\t\t\t\t\t\t# tvals for inference: abs(tval) > 1. 65 => 90% confidence level; abs(tval) > 1.96 => 95% CI\n",
    "\n",
    "# e. Information Criteria: Used for Model Selection\n",
    "aic = nn*log(sig2) + 2*pp\t\t\t\t\t\t# Use when nn is large (i.e., pp/nn < 5%), the smaller the better the model is\n",
    "aicc = nn*log(sig2) + nn*(nn+pp)/(nn-pp-2)\t\t\t# Use when pp/nn > 5% => invented by Prof. Tsai at GSM and Hurvich at NYU\n",
    "bic = nn*log(sig2) + pp*log(nn)\t\t\t\t\t# Use when nn is large (i.e., pp/nn < 5%)\n",
    "\n",
    "# f. summary of est, std err, tvals\n",
    "model2 <<- data.frame(est, se, tvals)\n",
    "cat('\\nmodel2 - price (Hyperbolic Decay), spend1(concave), spend2(concave) - est, std err, tvals:\\n')\n",
    "print(model2)\n",
    "\n",
    "model2_c <<- data.frame(aic, aicc, bic)\n",
    "cat('\\nmodel2 - price (Exponential Decay), spend1(concave), spend2(concave) - model selection, tvals:\\n')\n",
    "print(model2_c)\n",
    "\n",
    "pp_nn2<<- pp/nn"
   ]
  },
  {
   "cell_type": "markdown",
   "metadata": {},
   "source": [
    "## Model Selection"
   ]
  },
  {
   "cell_type": "code",
   "execution_count": 43,
   "metadata": {
    "scrolled": true
   },
   "outputs": [
    {
     "data": {
      "text/html": [
       "<table>\n",
       "<thead><tr><th></th><th scope=col>aic</th><th scope=col>aicc</th><th scope=col>bic</th></tr></thead>\n",
       "<tbody>\n",
       "\t<tr><th scope=row>model1</th><td>-6.060</td><td>63.51 </td><td>9.161 </td></tr>\n",
       "\t<tr><th scope=row>model2</th><td>-9.031</td><td>59.93 </td><td>4.015 </td></tr>\n",
       "</tbody>\n",
       "</table>\n"
      ],
      "text/latex": [
       "\\begin{tabular}{r|lll}\n",
       "  & aic & aicc & bic\\\\\n",
       "\\hline\n",
       "\tmodel1 & -6.060 & 63.51  & 9.161 \\\\\n",
       "\tmodel2 & -9.031 & 59.93  & 4.015 \\\\\n",
       "\\end{tabular}\n"
      ],
      "text/markdown": [
       "\n",
       "| <!--/--> | aic | aicc | bic | \n",
       "|---|---|\n",
       "| model1 | -6.060 | 63.51  | 9.161  | \n",
       "| model2 | -9.031 | 59.93  | 4.015  | \n",
       "\n",
       "\n"
      ],
      "text/plain": [
       "       aic    aicc  bic  \n",
       "model1 -6.060 63.51 9.161\n",
       "model2 -9.031 59.93 4.015"
      ]
     },
     "metadata": {},
     "output_type": "display_data"
    },
    {
     "data": {
      "text/html": [
       "<table>\n",
       "<thead><tr><th scope=col>model1</th><th scope=col>model2</th></tr></thead>\n",
       "<tbody>\n",
       "\t<tr><td>0.1077 </td><td>0.09231</td></tr>\n",
       "</tbody>\n",
       "</table>\n"
      ],
      "text/latex": [
       "\\begin{tabular}{ll}\n",
       " model1 & model2\\\\\n",
       "\\hline\n",
       "\t 0.1077  & 0.09231\\\\\n",
       "\\end{tabular}\n"
      ],
      "text/markdown": [
       "\n",
       "model1 | model2 | \n",
       "|---|\n",
       "| 0.1077  | 0.09231 | \n",
       "\n",
       "\n"
      ],
      "text/plain": [
       "     model1 model2 \n",
       "[1,] 0.1077 0.09231"
      ]
     },
     "metadata": {},
     "output_type": "display_data"
    }
   ],
   "source": [
    "######## Comparison ######## \n",
    "\n",
    "comp<-rbind(model1_c,model2_c)\n",
    "rownames(comp)<-c('model1','model2')\n",
    "pp_nn<-matrix(c(pp_nn1,pp_nn2),ncol = 2)\n",
    "colnames(pp_nn)<-c('model1','model2')\n",
    "comp\n",
    "pp_nn"
   ]
  },
  {
   "cell_type": "markdown",
   "metadata": {},
   "source": [
    "From the table above, we can see that model2 has lower aic, aicc and bic, so it performs better than model1. I would use model2 to predict sales based on price and spendings on tv and radio."
   ]
  },
  {
   "cell_type": "markdown",
   "metadata": {},
   "source": [
    "## Profit Maximization"
   ]
  },
  {
   "cell_type": "code",
   "execution_count": 46,
   "metadata": {},
   "outputs": [],
   "source": [
    "### 1. est from the model secletion in HW3 non-linear regression\n",
    "b1=-3\n",
    "b2=121\n",
    "b3=0.7\n",
    "b4=0.1\n",
    "b5=1.3\n",
    "b6=0.03\n",
    "c=1\n"
   ]
  },
  {
   "cell_type": "code",
   "execution_count": 47,
   "metadata": {},
   "outputs": [],
   "source": [
    "### 2. Build the profit function\n",
    "profit = function(x) {\n",
    "  \n",
    "  sales = b1 + b2/(x[1]) + b3*(x[2])^b4 + b5*(x[3])^b6\t# sales model with x[1] = zprice, and x[2],x[3] = zad spends. \n",
    "  profit = (x[1]-c)*sales - x[2] - x[3]\t\t\t\t\t\t# profit = revenues-cost. Revenues = price*units sold. Cost = ad dollars spent\n",
    "  return(profit)\n",
    "}\n"
   ]
  },
  {
   "cell_type": "code",
   "execution_count": 44,
   "metadata": {},
   "outputs": [],
   "source": [
    "### 3. Check profit function makes sense for positive (x1, x2, x3) values\n",
    "\n",
    "#profit(c(runif(1,0,10),runif(1,0,10),runif(1,0,10)))\t\t\t\t"
   ]
  },
  {
   "cell_type": "code",
   "execution_count": 49,
   "metadata": {},
   "outputs": [],
   "source": [
    "# Step 4. Maximize profit numerically \n",
    "x0=c(15,10,10)\n",
    "out = optim(x0, profit, method = \"BFGS\", hessian=TRUE, control = list(fnscale = -1))\n",
    "output <- data.frame(out$value,out$par[1], out$par[2],out$par[3])\n",
    "colnames(output) <- c('Max_Profit', 'Optimal_Price', 'Optimal_Ad_Spend1', 'Optimal_Ad_Spend2')\n",
    "rownames(output) <- 'Result'"
   ]
  },
  {
   "cell_type": "code",
   "execution_count": 50,
   "metadata": {},
   "outputs": [],
   "source": [
    "# plots verification\n",
    "data=read.csv(\"class_data.csv\", header=T) \n",
    "sales=data[,2]\n",
    "price=data[,3]\n",
    "tv=data[,4]\n",
    "radio=data[,6]\n",
    "zsales=sales/sd(sales)\n",
    "zprice=price/sd(price) #price\n",
    "ztv=tv/sd(tv) #spend1\n",
    "zradio=radio/sd(radio) #spend2\n",
    "zspend=(ztv+zradio)/2\n",
    "\n",
    "pred_zsales = b1 + b2/(zprice) + b3*(ztv)^b4 + b5*(zradio)^b6\n",
    "pred_zprofit = (zprice-c)*pred_zsales - ztv - zradio"
   ]
  },
  {
   "cell_type": "code",
   "execution_count": 51,
   "metadata": {},
   "outputs": [
    {
     "data": {
      "text/html": [
       "<table>\n",
       "<thead><tr><th></th><th scope=col>Max_Profit</th><th scope=col>Optimal_Price</th><th scope=col>Optimal_Ad_Spend1</th><th scope=col>Optimal_Ad_Spend2</th></tr></thead>\n",
       "<tbody>\n",
       "\t<tr><th scope=row>Result</th><td>98.32 </td><td>10.64 </td><td>0.6453</td><td>0.3658</td></tr>\n",
       "</tbody>\n",
       "</table>\n"
      ],
      "text/latex": [
       "\\begin{tabular}{r|llll}\n",
       "  & Max\\_Profit & Optimal\\_Price & Optimal\\_Ad\\_Spend1 & Optimal\\_Ad\\_Spend2\\\\\n",
       "\\hline\n",
       "\tResult & 98.32  & 10.64  & 0.6453 & 0.3658\\\\\n",
       "\\end{tabular}\n"
      ],
      "text/markdown": [
       "\n",
       "| <!--/--> | Max_Profit | Optimal_Price | Optimal_Ad_Spend1 | Optimal_Ad_Spend2 | \n",
       "|---|\n",
       "| Result | 98.32  | 10.64  | 0.6453 | 0.3658 | \n",
       "\n",
       "\n"
      ],
      "text/plain": [
       "       Max_Profit Optimal_Price Optimal_Ad_Spend1 Optimal_Ad_Spend2\n",
       "Result 98.32      10.64         0.6453            0.3658           "
      ]
     },
     "metadata": {},
     "output_type": "display_data"
    },
    {
     "data": {
      "image/png": "[encoded data removed]",
      "text/plain": [
       "plot without title"
      ]
     },
     "metadata": {},
     "output_type": "display_data"
    }
   ],
   "source": [
    "p1 <- ggplot(data.frame(pred_zprofit, pred_zsales, zprice, zspend), aes(x=zprice, y=pred_zsales))+\n",
    "  geom_point(position=position_jitter(width=0.2, height=0.2), alpha=0.6)+\n",
    "  geom_smooth(se=FALSE, method='loess', color='orangered')+\n",
    "  scale_x_continuous(breaks=seq(25,32,1))+\n",
    "  ggtitle('Predicted zSales V.S. zPrice')+\n",
    "  labs(x='zPrice', y='Predicted zSales')+\n",
    "  theme(plot.title=element_text(face='bold', hjust=0.5))\n",
    "\n",
    "p3 <- ggplot(data.frame(pred_zprofit, pred_zsales, zprice, zspend), aes(x=zspend, y=pred_zsales))+\n",
    "  geom_point(alpha=0.6)+\n",
    "  geom_smooth(se=FALSE, method='loess', color='green3')+\n",
    "  scale_x_continuous(breaks=seq(0,4,0.5))+\n",
    "  ggtitle('Predicted zSales V.S. zSpend')+\n",
    "  labs(x='zSpend(Avg. of zTV+zRadio)', y='Predicted zSales')+\n",
    "  theme(plot.title=element_text(face='bold', hjust=0.5))\n",
    "\n",
    "p2 <- ggplot(data.frame(pred_zprofit, pred_zsales, zprice, zspend), aes(x=pred_zsales, y=pred_zprofit))+\n",
    "  geom_point(position=position_jitter(width=0.5, height=0.5), alpha=0.6)+\n",
    "  geom_smooth(se=FALSE, method='loess', color='#DD8888')+\n",
    "  scale_x_continuous(breaks=seq(1,4,0.5))+\n",
    "  ggtitle('Predicted zProfit V.S. Predicted zSales')+\n",
    "  labs(x='Predicted zSales', y='Predicted zProfit')+\n",
    "  theme(plot.title=element_text(face='bold', hjust=0.5))\n",
    "\n",
    "p4 <- ggplot(data.frame(pred_zprofit, pred_zsales, zprice, zspend), aes(x=zprice, y=pred_zprofit))+\n",
    "  geom_point(position=position_jitter(width=1, height=1), alpha=0.6)+\n",
    "  geom_smooth(se=FALSE, method='loess', color='dodgerblue2')+\n",
    "  scale_x_continuous(breaks=seq(25,32,1))+\n",
    "  ggtitle('Predicted zProfit V.S. zPrice')+\n",
    "  labs(x='zPrice', y='Predicted zProfit')+\n",
    "  theme(plot.title=element_text(face='bold', hjust=0.5))\n",
    "\n",
    "multiplot(p1,p2,p3,p4,cols=2)\n",
    "\n",
    "output"
   ]
  }
 ],
 "metadata": {
  "anaconda-cloud": {},
  "kernelspec": {
   "display_name": "R [conda env:Anaconda3]",
   "language": "R",
   "name": "conda-env-Anaconda3-r"
  },
  "language_info": {
   "codemirror_mode": "r",
   "file_extension": ".r",
   "mimetype": "text/x-r-source",
   "name": "R",
   "pygments_lexer": "r",
   "version": "3.4.3"
  }
 },
 "nbformat": 4,
 "nbformat_minor": 2
}
