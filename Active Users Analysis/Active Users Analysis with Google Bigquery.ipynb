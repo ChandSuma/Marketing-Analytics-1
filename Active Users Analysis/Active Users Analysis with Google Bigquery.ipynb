{
 "cells": [
  {
   "cell_type": "markdown",
   "metadata": {},
   "source": [
    "# Active Users Analysis with Google Bigquery\n",
    "\n",
    "This notebook would be a great example of how to combine SQL, Python and Tableau to solve complex business problems.\n",
    "\n",
    "## Dataset Overview\n",
    "[Stack Overflow](https://cloud.google.com/bigquery/public-data/stackoverflow) is the largest online community for programmers to learn, share their knowledge, and advance their careers. Updated on a quarterly basis, this BigQuery dataset includes an archive of Stack Overflow content, including posts, votes, tags, and badges. This dataset is updated to mirror the Stack Overflow content on the Internet Archive, and is also available through the Stack Exchange Data Explorer.\n",
    "\n",
    "## Business Questions\n",
    "1. How many active users each month, and who are they?\n",
    "2. Could we also show active users' engagement type to understand their behaviour better?\n",
    "3. Are our active users new user or returning user?\n",
    "\n",
    "## Brief\n",
    "This notebook will show you how to connect with Google Bigquery and run your SQL code on python. Also, you can also learn how to \n",
    "export what you get from SQL to a hyper file which can be opened by Tableau directly. Finally, you will have a understanding of my SQL proficiency!"
   ]
  },
  {
   "cell_type": "code",
   "execution_count": 1,
   "metadata": {},
   "outputs": [],
   "source": [
    "import numpy as np\n",
    "import pandas as pd\n",
    "from pandas.io import gbq"
   ]
  },
  {
   "cell_type": "code",
   "execution_count": 226,
   "metadata": {},
   "outputs": [],
   "source": [
    "#This is your Bigquery project id, you can go to your Bigquery to check it.\n",
    "#Please refer https://moderndata.plot.ly/using-google-bigquery-with-plotly-and-pandas/ \n",
    "#!pip install pandas-gbq\n",
    "project_id = 'genuine-grid-181503'"
   ]
  },
  {
   "cell_type": "markdown",
   "metadata": {},
   "source": [
    "## Data Loading"
   ]
  },
  {
   "cell_type": "code",
   "execution_count": null,
   "metadata": {},
   "outputs": [],
   "source": [
    "# Since the dataset is too large to run complex sql queries, here we only load 100 records."
   ]
  },
  {
   "cell_type": "code",
   "execution_count": 19,
   "metadata": {},
   "outputs": [],
   "source": [
    "posts_questions = \"\"\"\n",
    "SELECT\n",
    "    *\n",
    "FROM\n",
    "  `bigquery-public-data.stackoverflow.posts_questions`\n",
    "\n",
    "LIMIT\n",
    "  100\n",
    "\"\"\""
   ]
  },
  {
   "cell_type": "code",
   "execution_count": 20,
   "metadata": {},
   "outputs": [],
   "source": [
    "posts_answers = \"\"\"\n",
    "SELECT\n",
    "    *\n",
    "FROM\n",
    "  `bigquery-public-data.stackoverflow.posts_answers`\n",
    "\n",
    "LIMIT\n",
    "  100\n",
    "\"\"\""
   ]
  },
  {
   "cell_type": "code",
   "execution_count": 30,
   "metadata": {},
   "outputs": [],
   "source": [
    "comments = \"\"\"\n",
    "SELECT\n",
    "    *\n",
    "FROM\n",
    "  `bigquery-public-data.stackoverflow.comments`\n",
    "\n",
    "LIMIT\n",
    "  100\n",
    "\"\"\""
   ]
  },
  {
   "cell_type": "code",
   "execution_count": 103,
   "metadata": {},
   "outputs": [],
   "source": [
    "users = \"\"\"\n",
    "SELECT\n",
    "    *\n",
    "FROM\n",
    "  `bigquery-public-data.stackoverflow.users` \n",
    "\n",
    "LIMIT\n",
    "  100\n",
    "\"\"\""
   ]
  },
  {
   "cell_type": "code",
   "execution_count": 34,
   "metadata": {
    "scrolled": true
   },
   "outputs": [
    {
     "name": "stderr",
     "output_type": "stream",
     "text": [
      "C:\\Users\\Mengyu\\Anaconda3\\lib\\site-packages\\pandas_gbq\\gbq.py:798: FutureWarning: verbose is deprecated and will be removed in a future version. Set logging level in order to vary verbosity\n",
      "  \"verbosity\", FutureWarning, stacklevel=1)\n"
     ]
    }
   ],
   "source": [
    "#Run those quesries on google bigquery and load the data into dataframe\n",
    "comments_df = gbq.read_gbq(comments, project_id=project_id,dialect = \"standard\")\n",
    "posts_answers_df = gbq.read_gbq(posts_answers, project_id=project_id,dialect = \"standard\")\n",
    "posts_questions_df = gbq.read_gbq(posts_questions, project_id=project_id,dialect = 'standard')\n",
    "users = gbq.read_gbq(users, project_id=project_id,dialect = 'standard')"
   ]
  },
  {
   "cell_type": "code",
   "execution_count": null,
   "metadata": {},
   "outputs": [],
   "source": [
    "#Then let's take a look at the data"
   ]
  },
  {
   "cell_type": "code",
   "execution_count": 37,
   "metadata": {
    "scrolled": true
   },
   "outputs": [
    {
     "data": {
      "text/html": [
       "<div>\n",
       "<style scoped>\n",
       "    .dataframe tbody tr th:only-of-type {\n",
       "        vertical-align: middle;\n",
       "    }\n",
       "\n",
       "    .dataframe tbody tr th {\n",
       "        vertical-align: top;\n",
       "    }\n",
       "\n",
       "    .dataframe thead th {\n",
       "        text-align: right;\n",
       "    }\n",
       "</style>\n",
       "<table border=\"1\" class=\"dataframe\">\n",
       "  <thead>\n",
       "    <tr style=\"text-align: right;\">\n",
       "      <th></th>\n",
       "      <th>id</th>\n",
       "      <th>text</th>\n",
       "      <th>creation_date</th>\n",
       "      <th>post_id</th>\n",
       "      <th>user_id</th>\n",
       "      <th>user_display_name</th>\n",
       "      <th>score</th>\n",
       "    </tr>\n",
       "  </thead>\n",
       "  <tbody>\n",
       "    <tr>\n",
       "      <th>0</th>\n",
       "      <td>50232955</td>\n",
       "      <td>`json.keys()` will give you fileds of your class.</td>\n",
       "      <td>2015-06-29 06:52:25.147</td>\n",
       "      <td>30938884</td>\n",
       "      <td>2823164</td>\n",
       "      <td></td>\n",
       "      <td>0</td>\n",
       "    </tr>\n",
       "    <tr>\n",
       "      <th>1</th>\n",
       "      <td>5733229</td>\n",
       "      <td>MiffTheFox: I'm talking about autoloading, not...</td>\n",
       "      <td>2011-02-25 02:51:17.527</td>\n",
       "      <td>5112964</td>\n",
       "      <td>388916</td>\n",
       "      <td></td>\n",
       "      <td>1</td>\n",
       "    </tr>\n",
       "    <tr>\n",
       "      <th>2</th>\n",
       "      <td>59596181</td>\n",
       "      <td>Microsoft.mshtml.dll is an ancient assembly an...</td>\n",
       "      <td>2016-03-13 13:52:45.057</td>\n",
       "      <td>35969898</td>\n",
       "      <td>17034</td>\n",
       "      <td></td>\n",
       "      <td>0</td>\n",
       "    </tr>\n",
       "    <tr>\n",
       "      <th>3</th>\n",
       "      <td>72357806</td>\n",
       "      <td>Edited my answer, missed the actual problem.</td>\n",
       "      <td>2017-03-05 21:47:57.003</td>\n",
       "      <td>42613986</td>\n",
       "      <td>3476154</td>\n",
       "      <td></td>\n",
       "      <td>0</td>\n",
       "    </tr>\n",
       "    <tr>\n",
       "      <th>4</th>\n",
       "      <td>67742655</td>\n",
       "      <td>Glad to help. Remember that if you found diffe...</td>\n",
       "      <td>2016-10-25 12:48:47.883</td>\n",
       "      <td>40239896</td>\n",
       "      <td>4323648</td>\n",
       "      <td></td>\n",
       "      <td>0</td>\n",
       "    </tr>\n",
       "  </tbody>\n",
       "</table>\n",
       "</div>"
      ],
      "text/plain": [
       "         id                                               text  \\\n",
       "0  50232955  `json.keys()` will give you fileds of your class.   \n",
       "1   5733229  MiffTheFox: I'm talking about autoloading, not...   \n",
       "2  59596181  Microsoft.mshtml.dll is an ancient assembly an...   \n",
       "3  72357806       Edited my answer, missed the actual problem.   \n",
       "4  67742655  Glad to help. Remember that if you found diffe...   \n",
       "\n",
       "            creation_date   post_id  user_id user_display_name  score  \n",
       "0 2015-06-29 06:52:25.147  30938884  2823164                        0  \n",
       "1 2011-02-25 02:51:17.527   5112964   388916                        1  \n",
       "2 2016-03-13 13:52:45.057  35969898    17034                        0  \n",
       "3 2017-03-05 21:47:57.003  42613986  3476154                        0  \n",
       "4 2016-10-25 12:48:47.883  40239896  4323648                        0  "
      ]
     },
     "execution_count": 37,
     "metadata": {},
     "output_type": "execute_result"
    }
   ],
   "source": [
    "comments_df.head()"
   ]
  },
  {
   "cell_type": "code",
   "execution_count": 38,
   "metadata": {
    "scrolled": false
   },
   "outputs": [
    {
     "data": {
      "text/html": [
       "<div>\n",
       "<style scoped>\n",
       "    .dataframe tbody tr th:only-of-type {\n",
       "        vertical-align: middle;\n",
       "    }\n",
       "\n",
       "    .dataframe tbody tr th {\n",
       "        vertical-align: top;\n",
       "    }\n",
       "\n",
       "    .dataframe thead th {\n",
       "        text-align: right;\n",
       "    }\n",
       "</style>\n",
       "<table border=\"1\" class=\"dataframe\">\n",
       "  <thead>\n",
       "    <tr style=\"text-align: right;\">\n",
       "      <th></th>\n",
       "      <th>id</th>\n",
       "      <th>body</th>\n",
       "      <th>comment_count</th>\n",
       "      <th>community_owned_date</th>\n",
       "      <th>creation_date</th>\n",
       "      <th>last_activity_date</th>\n",
       "      <th>last_edit_date</th>\n",
       "      <th>last_editor_display_name</th>\n",
       "      <th>last_editor_user_id</th>\n",
       "      <th>owner_display_name</th>\n",
       "      <th>owner_user_id</th>\n",
       "      <th>parent_id</th>\n",
       "      <th>post_type_id</th>\n",
       "      <th>score</th>\n",
       "      <th>tags</th>\n",
       "    </tr>\n",
       "  </thead>\n",
       "  <tbody>\n",
       "    <tr>\n",
       "      <th>0</th>\n",
       "      <td>36721985</td>\n",
       "      <td>&lt;p&gt;To follow up on a comment I made on the acc...</td>\n",
       "      <td>0</td>\n",
       "      <td>NaT</td>\n",
       "      <td>2016-04-19 14:52:35.727</td>\n",
       "      <td>2016-04-19 14:52:35.727</td>\n",
       "      <td>NaT</td>\n",
       "      <td></td>\n",
       "      <td>None</td>\n",
       "      <td></td>\n",
       "      <td>1638871</td>\n",
       "      <td>17623523</td>\n",
       "      <td>2</td>\n",
       "      <td>0</td>\n",
       "      <td></td>\n",
       "    </tr>\n",
       "    <tr>\n",
       "      <th>1</th>\n",
       "      <td>20383045</td>\n",
       "      <td>&lt;p&gt;Most of the widgets you create have a paren...</td>\n",
       "      <td>1</td>\n",
       "      <td>NaT</td>\n",
       "      <td>2013-12-04 18:27:49.150</td>\n",
       "      <td>2013-12-04 18:27:49.150</td>\n",
       "      <td>NaT</td>\n",
       "      <td></td>\n",
       "      <td>None</td>\n",
       "      <td></td>\n",
       "      <td>7432</td>\n",
       "      <td>20382223</td>\n",
       "      <td>2</td>\n",
       "      <td>1</td>\n",
       "      <td></td>\n",
       "    </tr>\n",
       "    <tr>\n",
       "      <th>2</th>\n",
       "      <td>17700770</td>\n",
       "      <td>&lt;p&gt;Actually my defaultDataSource bean was decl...</td>\n",
       "      <td>0</td>\n",
       "      <td>NaT</td>\n",
       "      <td>2013-07-17 13:13:27.393</td>\n",
       "      <td>2013-07-17 13:13:27.393</td>\n",
       "      <td>NaT</td>\n",
       "      <td></td>\n",
       "      <td>None</td>\n",
       "      <td></td>\n",
       "      <td>2584126</td>\n",
       "      <td>17676879</td>\n",
       "      <td>2</td>\n",
       "      <td>0</td>\n",
       "      <td></td>\n",
       "    </tr>\n",
       "    <tr>\n",
       "      <th>3</th>\n",
       "      <td>1604952</td>\n",
       "      <td>&lt;p&gt;&lt;a href=\"http://docs.google.com/Doc?docid=a...</td>\n",
       "      <td>0</td>\n",
       "      <td>NaT</td>\n",
       "      <td>2009-10-22 04:03:26.940</td>\n",
       "      <td>2009-10-22 04:03:26.940</td>\n",
       "      <td>NaT</td>\n",
       "      <td></td>\n",
       "      <td>None</td>\n",
       "      <td></td>\n",
       "      <td>81717</td>\n",
       "      <td>1604684</td>\n",
       "      <td>2</td>\n",
       "      <td>3</td>\n",
       "      <td></td>\n",
       "    </tr>\n",
       "    <tr>\n",
       "      <th>4</th>\n",
       "      <td>15205962</td>\n",
       "      <td>&lt;p&gt;There is no direct way to identify the Acco...</td>\n",
       "      <td>0</td>\n",
       "      <td>NaT</td>\n",
       "      <td>2013-03-04 16:14:17.153</td>\n",
       "      <td>2013-03-04 16:14:17.153</td>\n",
       "      <td>NaT</td>\n",
       "      <td></td>\n",
       "      <td>None</td>\n",
       "      <td></td>\n",
       "      <td>1060762</td>\n",
       "      <td>15096822</td>\n",
       "      <td>2</td>\n",
       "      <td>2</td>\n",
       "      <td></td>\n",
       "    </tr>\n",
       "  </tbody>\n",
       "</table>\n",
       "</div>"
      ],
      "text/plain": [
       "         id                                               body  comment_count  \\\n",
       "0  36721985  <p>To follow up on a comment I made on the acc...              0   \n",
       "1  20383045  <p>Most of the widgets you create have a paren...              1   \n",
       "2  17700770  <p>Actually my defaultDataSource bean was decl...              0   \n",
       "3   1604952  <p><a href=\"http://docs.google.com/Doc?docid=a...              0   \n",
       "4  15205962  <p>There is no direct way to identify the Acco...              0   \n",
       "\n",
       "  community_owned_date           creation_date      last_activity_date  \\\n",
       "0                  NaT 2016-04-19 14:52:35.727 2016-04-19 14:52:35.727   \n",
       "1                  NaT 2013-12-04 18:27:49.150 2013-12-04 18:27:49.150   \n",
       "2                  NaT 2013-07-17 13:13:27.393 2013-07-17 13:13:27.393   \n",
       "3                  NaT 2009-10-22 04:03:26.940 2009-10-22 04:03:26.940   \n",
       "4                  NaT 2013-03-04 16:14:17.153 2013-03-04 16:14:17.153   \n",
       "\n",
       "  last_edit_date last_editor_display_name last_editor_user_id  \\\n",
       "0            NaT                                         None   \n",
       "1            NaT                                         None   \n",
       "2            NaT                                         None   \n",
       "3            NaT                                         None   \n",
       "4            NaT                                         None   \n",
       "\n",
       "  owner_display_name owner_user_id  parent_id  post_type_id  score tags  \n",
       "0                          1638871   17623523             2      0       \n",
       "1                             7432   20382223             2      1       \n",
       "2                          2584126   17676879             2      0       \n",
       "3                            81717    1604684             2      3       \n",
       "4                          1060762   15096822             2      2       "
      ]
     },
     "execution_count": 38,
     "metadata": {},
     "output_type": "execute_result"
    }
   ],
   "source": [
    "posts_answers_df.head()"
   ]
  },
  {
   "cell_type": "code",
   "execution_count": 39,
   "metadata": {
    "scrolled": false
   },
   "outputs": [
    {
     "data": {
      "text/html": [
       "<div>\n",
       "<style scoped>\n",
       "    .dataframe tbody tr th:only-of-type {\n",
       "        vertical-align: middle;\n",
       "    }\n",
       "\n",
       "    .dataframe tbody tr th {\n",
       "        vertical-align: top;\n",
       "    }\n",
       "\n",
       "    .dataframe thead th {\n",
       "        text-align: right;\n",
       "    }\n",
       "</style>\n",
       "<table border=\"1\" class=\"dataframe\">\n",
       "  <thead>\n",
       "    <tr style=\"text-align: right;\">\n",
       "      <th></th>\n",
       "      <th>id</th>\n",
       "      <th>title</th>\n",
       "      <th>body</th>\n",
       "      <th>accepted_answer_id</th>\n",
       "      <th>answer_count</th>\n",
       "      <th>comment_count</th>\n",
       "      <th>community_owned_date</th>\n",
       "      <th>creation_date</th>\n",
       "      <th>favorite_count</th>\n",
       "      <th>last_activity_date</th>\n",
       "      <th>last_edit_date</th>\n",
       "      <th>last_editor_display_name</th>\n",
       "      <th>last_editor_user_id</th>\n",
       "      <th>owner_display_name</th>\n",
       "      <th>owner_user_id</th>\n",
       "      <th>post_type_id</th>\n",
       "      <th>score</th>\n",
       "      <th>tags</th>\n",
       "      <th>view_count</th>\n",
       "    </tr>\n",
       "  </thead>\n",
       "  <tbody>\n",
       "    <tr>\n",
       "      <th>0</th>\n",
       "      <td>16355438</td>\n",
       "      <td>phpMyAdmin designer for showing specific table...</td>\n",
       "      <td>&lt;p&gt;I want to see the relations to the table &lt;c...</td>\n",
       "      <td>16371602</td>\n",
       "      <td>1</td>\n",
       "      <td>0</td>\n",
       "      <td>NaT</td>\n",
       "      <td>2013-05-03 09:17:35.330</td>\n",
       "      <td>1</td>\n",
       "      <td>2014-02-06 16:59:23.737</td>\n",
       "      <td>2014-02-06 16:59:23.737</td>\n",
       "      <td></td>\n",
       "      <td>998328</td>\n",
       "      <td></td>\n",
       "      <td>1770460</td>\n",
       "      <td>1</td>\n",
       "      <td>1</td>\n",
       "      <td>phpmyadmin|designer</td>\n",
       "      <td>922</td>\n",
       "    </tr>\n",
       "    <tr>\n",
       "      <th>1</th>\n",
       "      <td>11058567</td>\n",
       "      <td>In TPL, how do I override the execution context?</td>\n",
       "      <td>&lt;p&gt;How do I override the execution context whe...</td>\n",
       "      <td>11058818</td>\n",
       "      <td>1</td>\n",
       "      <td>3</td>\n",
       "      <td>NaT</td>\n",
       "      <td>2012-06-15 21:41:12.913</td>\n",
       "      <td>1</td>\n",
       "      <td>2012-06-15 22:12:39.480</td>\n",
       "      <td>2012-06-15 22:12:39.480</td>\n",
       "      <td></td>\n",
       "      <td>41071</td>\n",
       "      <td></td>\n",
       "      <td>5274</td>\n",
       "      <td>1</td>\n",
       "      <td>2</td>\n",
       "      <td>.net|task-parallel-library|executioncontext</td>\n",
       "      <td>298</td>\n",
       "    </tr>\n",
       "    <tr>\n",
       "      <th>2</th>\n",
       "      <td>45988257</td>\n",
       "      <td>Can someone detect error in this code to imple...</td>\n",
       "      <td>&lt;p&gt;I am trying to implement dijkstra's algorit...</td>\n",
       "      <td>None</td>\n",
       "      <td>1</td>\n",
       "      <td>0</td>\n",
       "      <td>NaT</td>\n",
       "      <td>2017-08-31 18:51:39.573</td>\n",
       "      <td>None</td>\n",
       "      <td>2017-08-31 19:40:04.050</td>\n",
       "      <td>NaT</td>\n",
       "      <td></td>\n",
       "      <td>None</td>\n",
       "      <td></td>\n",
       "      <td>4664178</td>\n",
       "      <td>1</td>\n",
       "      <td>0</td>\n",
       "      <td>python|algorithm|shortest-path|dijkstra</td>\n",
       "      <td>44</td>\n",
       "    </tr>\n",
       "    <tr>\n",
       "      <th>3</th>\n",
       "      <td>31336747</td>\n",
       "      <td>Communication JQuery and C#</td>\n",
       "      <td>&lt;p&gt;I'm trying to connect Chrome extension and ...</td>\n",
       "      <td>31957483</td>\n",
       "      <td>1</td>\n",
       "      <td>1</td>\n",
       "      <td>NaT</td>\n",
       "      <td>2015-07-10 09:06:29.013</td>\n",
       "      <td>1</td>\n",
       "      <td>2015-08-12 06:24:52.410</td>\n",
       "      <td>2017-05-23 11:44:35.903</td>\n",
       "      <td></td>\n",
       "      <td>-1</td>\n",
       "      <td></td>\n",
       "      <td>3828636</td>\n",
       "      <td>1</td>\n",
       "      <td>6</td>\n",
       "      <td>javascript|c#|jquery|google-chrome|communication</td>\n",
       "      <td>224</td>\n",
       "    </tr>\n",
       "    <tr>\n",
       "      <th>4</th>\n",
       "      <td>8170942</td>\n",
       "      <td>Firefox Addon - install.rdf - What does the \"e...</td>\n",
       "      <td>&lt;p&gt;What does the &lt;code&gt;em&lt;/code&gt; mean in    &lt;/...</td>\n",
       "      <td>8171126</td>\n",
       "      <td>1</td>\n",
       "      <td>0</td>\n",
       "      <td>NaT</td>\n",
       "      <td>2011-11-17 16:44:34.137</td>\n",
       "      <td>None</td>\n",
       "      <td>2011-11-17 19:17:19.763</td>\n",
       "      <td>2011-11-17 19:17:19.763</td>\n",
       "      <td></td>\n",
       "      <td>592746</td>\n",
       "      <td></td>\n",
       "      <td>604383</td>\n",
       "      <td>1</td>\n",
       "      <td>4</td>\n",
       "      <td>xml|firefox|firefox-addon</td>\n",
       "      <td>281</td>\n",
       "    </tr>\n",
       "  </tbody>\n",
       "</table>\n",
       "</div>"
      ],
      "text/plain": [
       "         id                                              title  \\\n",
       "0  16355438  phpMyAdmin designer for showing specific table...   \n",
       "1  11058567   In TPL, how do I override the execution context?   \n",
       "2  45988257  Can someone detect error in this code to imple...   \n",
       "3  31336747                        Communication JQuery and C#   \n",
       "4   8170942  Firefox Addon - install.rdf - What does the \"e...   \n",
       "\n",
       "                                                body accepted_answer_id  \\\n",
       "0  <p>I want to see the relations to the table <c...           16371602   \n",
       "1  <p>How do I override the execution context whe...           11058818   \n",
       "2  <p>I am trying to implement dijkstra's algorit...               None   \n",
       "3  <p>I'm trying to connect Chrome extension and ...           31957483   \n",
       "4  <p>What does the <code>em</code> mean in    </...            8171126   \n",
       "\n",
       "   answer_count  comment_count community_owned_date           creation_date  \\\n",
       "0             1              0                  NaT 2013-05-03 09:17:35.330   \n",
       "1             1              3                  NaT 2012-06-15 21:41:12.913   \n",
       "2             1              0                  NaT 2017-08-31 18:51:39.573   \n",
       "3             1              1                  NaT 2015-07-10 09:06:29.013   \n",
       "4             1              0                  NaT 2011-11-17 16:44:34.137   \n",
       "\n",
       "  favorite_count      last_activity_date          last_edit_date  \\\n",
       "0              1 2014-02-06 16:59:23.737 2014-02-06 16:59:23.737   \n",
       "1              1 2012-06-15 22:12:39.480 2012-06-15 22:12:39.480   \n",
       "2           None 2017-08-31 19:40:04.050                     NaT   \n",
       "3              1 2015-08-12 06:24:52.410 2017-05-23 11:44:35.903   \n",
       "4           None 2011-11-17 19:17:19.763 2011-11-17 19:17:19.763   \n",
       "\n",
       "  last_editor_display_name last_editor_user_id owner_display_name  \\\n",
       "0                                       998328                      \n",
       "1                                        41071                      \n",
       "2                                         None                      \n",
       "3                                           -1                      \n",
       "4                                       592746                      \n",
       "\n",
       "  owner_user_id  post_type_id  score  \\\n",
       "0       1770460             1      1   \n",
       "1          5274             1      2   \n",
       "2       4664178             1      0   \n",
       "3       3828636             1      6   \n",
       "4        604383             1      4   \n",
       "\n",
       "                                               tags  view_count  \n",
       "0                               phpmyadmin|designer         922  \n",
       "1       .net|task-parallel-library|executioncontext         298  \n",
       "2           python|algorithm|shortest-path|dijkstra          44  \n",
       "3  javascript|c#|jquery|google-chrome|communication         224  \n",
       "4                         xml|firefox|firefox-addon         281  "
      ]
     },
     "execution_count": 39,
     "metadata": {},
     "output_type": "execute_result"
    }
   ],
   "source": [
    "posts_questions_df.head()"
   ]
  },
  {
   "cell_type": "code",
   "execution_count": 105,
   "metadata": {},
   "outputs": [
    {
     "name": "stderr",
     "output_type": "stream",
     "text": [
      "C:\\Users\\Mengyu\\Anaconda3\\lib\\site-packages\\pandas_gbq\\gbq.py:798: FutureWarning: verbose is deprecated and will be removed in a future version. Set logging level in order to vary verbosity\n",
      "  \"verbosity\", FutureWarning, stacklevel=1)\n"
     ]
    },
    {
     "data": {
      "text/html": [
       "<div>\n",
       "<style scoped>\n",
       "    .dataframe tbody tr th:only-of-type {\n",
       "        vertical-align: middle;\n",
       "    }\n",
       "\n",
       "    .dataframe tbody tr th {\n",
       "        vertical-align: top;\n",
       "    }\n",
       "\n",
       "    .dataframe thead th {\n",
       "        text-align: right;\n",
       "    }\n",
       "</style>\n",
       "<table border=\"1\" class=\"dataframe\">\n",
       "  <thead>\n",
       "    <tr style=\"text-align: right;\">\n",
       "      <th></th>\n",
       "      <th>id</th>\n",
       "      <th>display_name</th>\n",
       "      <th>about_me</th>\n",
       "      <th>age</th>\n",
       "      <th>creation_date</th>\n",
       "      <th>last_access_date</th>\n",
       "      <th>location</th>\n",
       "      <th>reputation</th>\n",
       "      <th>up_votes</th>\n",
       "      <th>down_votes</th>\n",
       "      <th>views</th>\n",
       "      <th>profile_image_url</th>\n",
       "      <th>website_url</th>\n",
       "    </tr>\n",
       "  </thead>\n",
       "  <tbody>\n",
       "    <tr>\n",
       "      <th>0</th>\n",
       "      <td>964331</td>\n",
       "      <td>Peđa Terzić</td>\n",
       "      <td></td>\n",
       "      <td></td>\n",
       "      <td>2011-09-26 03:28:32.323</td>\n",
       "      <td>2018-01-17 07:28:45.413</td>\n",
       "      <td>Podgorica , Montenegro</td>\n",
       "      <td>219</td>\n",
       "      <td>12</td>\n",
       "      <td>0</td>\n",
       "      <td>50</td>\n",
       "      <td>https://i.stack.imgur.com/evo5p.jpg?s=128&amp;g=1</td>\n",
       "      <td>https://arxiv.org/find/math/1/au:+Terzic_P/0/1...</td>\n",
       "    </tr>\n",
       "    <tr>\n",
       "      <th>1</th>\n",
       "      <td>1869370</td>\n",
       "      <td>dogwynn</td>\n",
       "      <td></td>\n",
       "      <td></td>\n",
       "      <td>2012-12-01 21:07:04.290</td>\n",
       "      <td>2018-03-06 03:54:15.880</td>\n",
       "      <td></td>\n",
       "      <td>158</td>\n",
       "      <td>6</td>\n",
       "      <td>0</td>\n",
       "      <td>20</td>\n",
       "      <td></td>\n",
       "      <td></td>\n",
       "    </tr>\n",
       "    <tr>\n",
       "      <th>2</th>\n",
       "      <td>1837779</td>\n",
       "      <td>user1837779</td>\n",
       "      <td></td>\n",
       "      <td></td>\n",
       "      <td>2012-11-20 05:37:38.690</td>\n",
       "      <td>2018-03-09 20:56:51.680</td>\n",
       "      <td></td>\n",
       "      <td>155</td>\n",
       "      <td>87</td>\n",
       "      <td>0</td>\n",
       "      <td>40</td>\n",
       "      <td></td>\n",
       "      <td></td>\n",
       "    </tr>\n",
       "    <tr>\n",
       "      <th>3</th>\n",
       "      <td>4714252</td>\n",
       "      <td>Srdjan Nikitovic</td>\n",
       "      <td></td>\n",
       "      <td></td>\n",
       "      <td>2015-03-25 21:54:51.483</td>\n",
       "      <td>2018-03-07 13:09:37.490</td>\n",
       "      <td></td>\n",
       "      <td>311</td>\n",
       "      <td>5</td>\n",
       "      <td>0</td>\n",
       "      <td>76</td>\n",
       "      <td>https://graph.facebook.com/965496480128700/pic...</td>\n",
       "      <td></td>\n",
       "    </tr>\n",
       "    <tr>\n",
       "      <th>4</th>\n",
       "      <td>5432390</td>\n",
       "      <td>A Saxena</td>\n",
       "      <td></td>\n",
       "      <td></td>\n",
       "      <td>2015-10-11 02:19:30.083</td>\n",
       "      <td>2018-03-09 22:14:13.610</td>\n",
       "      <td></td>\n",
       "      <td>45</td>\n",
       "      <td>8</td>\n",
       "      <td>0</td>\n",
       "      <td>26</td>\n",
       "      <td>https://www.gravatar.com/avatar/f4b2c90a6c41a4...</td>\n",
       "      <td></td>\n",
       "    </tr>\n",
       "  </tbody>\n",
       "</table>\n",
       "</div>"
      ],
      "text/plain": [
       "        id      display_name about_me age           creation_date  \\\n",
       "0   964331       Peđa Terzić              2011-09-26 03:28:32.323   \n",
       "1  1869370           dogwynn              2012-12-01 21:07:04.290   \n",
       "2  1837779       user1837779              2012-11-20 05:37:38.690   \n",
       "3  4714252  Srdjan Nikitovic              2015-03-25 21:54:51.483   \n",
       "4  5432390          A Saxena              2015-10-11 02:19:30.083   \n",
       "\n",
       "         last_access_date                location  reputation  up_votes  \\\n",
       "0 2018-01-17 07:28:45.413  Podgorica , Montenegro         219        12   \n",
       "1 2018-03-06 03:54:15.880                                 158         6   \n",
       "2 2018-03-09 20:56:51.680                                 155        87   \n",
       "3 2018-03-07 13:09:37.490                                 311         5   \n",
       "4 2018-03-09 22:14:13.610                                  45         8   \n",
       "\n",
       "   down_votes  views                                  profile_image_url  \\\n",
       "0           0     50      https://i.stack.imgur.com/evo5p.jpg?s=128&g=1   \n",
       "1           0     20                                                      \n",
       "2           0     40                                                      \n",
       "3           0     76  https://graph.facebook.com/965496480128700/pic...   \n",
       "4           0     26  https://www.gravatar.com/avatar/f4b2c90a6c41a4...   \n",
       "\n",
       "                                         website_url  \n",
       "0  https://arxiv.org/find/math/1/au:+Terzic_P/0/1...  \n",
       "1                                                     \n",
       "2                                                     \n",
       "3                                                     \n",
       "4                                                     "
      ]
     },
     "execution_count": 105,
     "metadata": {},
     "output_type": "execute_result"
    }
   ],
   "source": [
    "users.head()"
   ]
  },
  {
   "cell_type": "markdown",
   "metadata": {},
   "source": [
    "## Using SQL to Get What You Need"
   ]
  },
  {
   "cell_type": "markdown",
   "metadata": {},
   "source": [
    "### 1. How many active users each month, and who are they?"
   ]
  },
  {
   "cell_type": "markdown",
   "metadata": {},
   "source": [
    "Here we define \"active users\" as people who write at least 1 comment, ask at least 1 question or give at least 1 answer at specific month.\n",
    "<cd>We can use \"Union distinct\" function to get the active users' id and month.\n",
    "<cd>I do try the pandasql to do this job on the dataframe we create above, but it misses some important functions of SQL such as date_trunc, so I will keep using google bigquery."
   ]
  },
  {
   "cell_type": "code",
   "execution_count": 90,
   "metadata": {},
   "outputs": [],
   "source": [
    "# This querry is to limit the whole dataset to 100 records so that we won't need to wait for too long, because the whole dataset is too large.\n",
    "# We will use this query many times in the next steps. Just remember, query 1 limits the amount of data that we are dealing with.\n",
    "query1 = \"\"\"    \n",
    "    with question as (\n",
    "        SELECT\n",
    "            *\n",
    "            FROM\n",
    "            `bigquery-public-data.stackoverflow.posts_questions`\n",
    "            LIMIT\n",
    "            100\n",
    "        ),\n",
    "        answer as (\n",
    "        SELECT\n",
    "            *\n",
    "            FROM\n",
    "            `bigquery-public-data.stackoverflow.posts_answers`\n",
    "\n",
    "            LIMIT\n",
    "            100\n",
    "        ),\n",
    "        comment as (\n",
    "        SELECT\n",
    "            *\n",
    "            FROM\n",
    "            `bigquery-public-data.stackoverflow.comments`\n",
    "            LIMIT\n",
    "            100\n",
    "\n",
    "        )\n",
    "\"\"\""
   ]
  },
  {
   "cell_type": "code",
   "execution_count": 91,
   "metadata": {},
   "outputs": [],
   "source": [
    "# This query is to select the distinct active users from tables in query1\n",
    "query2 = \"\"\"select distinct a.user_id, date_trunc(date(a.creation_date),month) month\n",
    "from \n",
    "comment a\n",
    "union distinct\n",
    "select distinct b. owner_user_id, date_trunc(date(b.creation_date),month) month\n",
    "from\n",
    "answer  b\n",
    "union distinct\n",
    "select distinct c. owner_user_id, date_trunc(date(c.creation_date),month) month\n",
    "from\n",
    "question c\n",
    "order by \n",
    "month, user_id\"\"\""
   ]
  },
  {
   "cell_type": "code",
   "execution_count": 92,
   "metadata": {
    "scrolled": true
   },
   "outputs": [
    {
     "name": "stderr",
     "output_type": "stream",
     "text": [
      "C:\\Users\\Mengyu\\Anaconda3\\lib\\site-packages\\pandas_gbq\\gbq.py:798: FutureWarning: verbose is deprecated and will be removed in a future version. Set logging level in order to vary verbosity\n",
      "  \"verbosity\", FutureWarning, stacklevel=1)\n"
     ]
    }
   ],
   "source": [
    "active = gbq.read_gbq(query1+query2, project_id=project_id,dialect = \"standard\")"
   ]
  },
  {
   "cell_type": "code",
   "execution_count": 93,
   "metadata": {
    "scrolled": true
   },
   "outputs": [
    {
     "data": {
      "text/html": [
       "<div>\n",
       "<style scoped>\n",
       "    .dataframe tbody tr th:only-of-type {\n",
       "        vertical-align: middle;\n",
       "    }\n",
       "\n",
       "    .dataframe tbody tr th {\n",
       "        vertical-align: top;\n",
       "    }\n",
       "\n",
       "    .dataframe thead th {\n",
       "        text-align: right;\n",
       "    }\n",
       "</style>\n",
       "<table border=\"1\" class=\"dataframe\">\n",
       "  <thead>\n",
       "    <tr style=\"text-align: right;\">\n",
       "      <th></th>\n",
       "      <th>user_id</th>\n",
       "      <th>month</th>\n",
       "    </tr>\n",
       "  </thead>\n",
       "  <tbody>\n",
       "    <tr>\n",
       "      <th>0</th>\n",
       "      <td>2506</td>\n",
       "      <td>2008-09-01</td>\n",
       "    </tr>\n",
       "    <tr>\n",
       "      <th>1</th>\n",
       "      <td>51428</td>\n",
       "      <td>2009-01-01</td>\n",
       "    </tr>\n",
       "    <tr>\n",
       "      <th>2</th>\n",
       "      <td>54811</td>\n",
       "      <td>2009-02-01</td>\n",
       "    </tr>\n",
       "    <tr>\n",
       "      <th>3</th>\n",
       "      <td>8155</td>\n",
       "      <td>2009-05-01</td>\n",
       "    </tr>\n",
       "    <tr>\n",
       "      <th>4</th>\n",
       "      <td>24545</td>\n",
       "      <td>2009-05-01</td>\n",
       "    </tr>\n",
       "  </tbody>\n",
       "</table>\n",
       "</div>"
      ],
      "text/plain": [
       "  user_id       month\n",
       "0    2506  2008-09-01\n",
       "1   51428  2009-01-01\n",
       "2   54811  2009-02-01\n",
       "3    8155  2009-05-01\n",
       "4   24545  2009-05-01"
      ]
     },
     "execution_count": 93,
     "metadata": {},
     "output_type": "execute_result"
    }
   ],
   "source": [
    "active.head()"
   ]
  },
  {
   "cell_type": "code",
   "execution_count": 128,
   "metadata": {},
   "outputs": [
    {
     "name": "stdout",
     "output_type": "stream",
     "text": [
      "<class 'pandas.core.frame.DataFrame'>\n",
      "RangeIndex: 300 entries, 0 to 299\n",
      "Data columns (total 2 columns):\n",
      "user_id    299 non-null object\n",
      "month      300 non-null object\n",
      "dtypes: object(2)\n",
      "memory usage: 4.8+ KB\n"
     ]
    }
   ],
   "source": [
    "active.info()"
   ]
  },
  {
   "cell_type": "markdown",
   "metadata": {},
   "source": [
    "### 2. Could we also show active users' engagement type to understand their behaviour better?"
   ]
  },
  {
   "cell_type": "markdown",
   "metadata": {},
   "source": [
    "As we already know, active users might be post-qustion active, post_answer active or comment active. Obviously one user can belong to multiple types during a specific time, say, one month. Our job is to show the type of their engagement instead of just knowing who they are."
   ]
  },
  {
   "cell_type": "code",
   "execution_count": null,
   "metadata": {},
   "outputs": [],
   "source": [
    "# We can add some new codes based on what we have from the first question."
   ]
  },
  {
   "cell_type": "code",
   "execution_count": 98,
   "metadata": {},
   "outputs": [],
   "source": [
    "#Firstly, let's use with clause to save the result of the first question\n",
    "query3 = query1 + \\\n",
    "\"\"\"\n",
    ", table1 as (\n",
    "select distinct a.user_id, date_trunc(date(a.creation_date),month) month\n",
    "from \n",
    "comment a\n",
    "union distinct\n",
    "select distinct b. owner_user_id, date_trunc(date(b.creation_date),month) month\n",
    "from\n",
    "answer  b\n",
    "union distinct\n",
    "select distinct c. owner_user_id, date_trunc(date(c.creation_date),month) month\n",
    "from\n",
    "question c\n",
    "order by \n",
    "month, user_id)\n",
    "\n",
    "\n",
    "\n",
    "\"\"\""
   ]
  },
  {
   "cell_type": "code",
   "execution_count": 100,
   "metadata": {},
   "outputs": [],
   "source": [
    "#Then we can add new code for this question\n",
    "#we can create a column that is filled with 1 in comment, answer and question tables, then left join those three tabels with our\n",
    "#active table which we get from question 1,(I name it as table1 in the sql code). If there is no comment or answer or question\n",
    "#for the specific user in specific month, the 1 column would be null. Then we can use ifnull function to convert null to 0.\n",
    "#Finally, in the result table, 1 means active in that type, while 0 means non active.\n",
    "\n",
    "query4 = \\\n",
    "\"\"\"\n",
    "select table1.*, ifnull(a1.comment_flag,0) comment_flag , ifnull(b1.answer_flag,0) answer_flag, ifnull(c1.question_flag,0) question_flag\n",
    "from\n",
    "table1\n",
    "left join \n",
    "(select distinct user_id, date_trunc(date(a.creation_date),month) month, 1 as comment_flag\n",
    "from \n",
    "comment a) a1\n",
    "on table1.user_id = a1.user_id and table1.month = a1.month\n",
    "left join\n",
    "(select distinct b. owner_user_id, date_trunc(date(b.creation_date),month) month, 1 as answer_flag\n",
    "from\n",
    "answer  b) b1\n",
    "on table1.user_id = b1.owner_user_id and table1.month = b1.month\n",
    "left join\n",
    "(select distinct c. owner_user_id, date_trunc(date(c.creation_date),month) month, 1 as question_flag\n",
    "from\n",
    "question c) c1\n",
    "on table1.user_id = c1.owner_user_id and table1.month = c1.month\n",
    "\"\"\""
   ]
  },
  {
   "cell_type": "code",
   "execution_count": 101,
   "metadata": {
    "scrolled": true
   },
   "outputs": [
    {
     "name": "stderr",
     "output_type": "stream",
     "text": [
      "C:\\Users\\Mengyu\\Anaconda3\\lib\\site-packages\\pandas_gbq\\gbq.py:798: FutureWarning: verbose is deprecated and will be removed in a future version. Set logging level in order to vary verbosity\n",
      "  \"verbosity\", FutureWarning, stacklevel=1)\n"
     ]
    }
   ],
   "source": [
    "active_with_type = gbq.read_gbq(query3+query4, project_id=project_id,dialect = \"standard\")"
   ]
  },
  {
   "cell_type": "code",
   "execution_count": 102,
   "metadata": {
    "scrolled": false
   },
   "outputs": [
    {
     "data": {
      "text/html": [
       "<div>\n",
       "<style scoped>\n",
       "    .dataframe tbody tr th:only-of-type {\n",
       "        vertical-align: middle;\n",
       "    }\n",
       "\n",
       "    .dataframe tbody tr th {\n",
       "        vertical-align: top;\n",
       "    }\n",
       "\n",
       "    .dataframe thead th {\n",
       "        text-align: right;\n",
       "    }\n",
       "</style>\n",
       "<table border=\"1\" class=\"dataframe\">\n",
       "  <thead>\n",
       "    <tr style=\"text-align: right;\">\n",
       "      <th></th>\n",
       "      <th>user_id</th>\n",
       "      <th>month</th>\n",
       "      <th>comment_flag</th>\n",
       "      <th>answer_flag</th>\n",
       "      <th>question_flag</th>\n",
       "    </tr>\n",
       "  </thead>\n",
       "  <tbody>\n",
       "    <tr>\n",
       "      <th>0</th>\n",
       "      <td>114916</td>\n",
       "      <td>2009-09-01</td>\n",
       "      <td>0</td>\n",
       "      <td>0</td>\n",
       "      <td>1</td>\n",
       "    </tr>\n",
       "    <tr>\n",
       "      <th>1</th>\n",
       "      <td>133584</td>\n",
       "      <td>2010-12-01</td>\n",
       "      <td>0</td>\n",
       "      <td>0</td>\n",
       "      <td>1</td>\n",
       "    </tr>\n",
       "    <tr>\n",
       "      <th>2</th>\n",
       "      <td>543514</td>\n",
       "      <td>2010-12-01</td>\n",
       "      <td>0</td>\n",
       "      <td>0</td>\n",
       "      <td>1</td>\n",
       "    </tr>\n",
       "    <tr>\n",
       "      <th>3</th>\n",
       "      <td>417899</td>\n",
       "      <td>2011-01-01</td>\n",
       "      <td>0</td>\n",
       "      <td>0</td>\n",
       "      <td>1</td>\n",
       "    </tr>\n",
       "    <tr>\n",
       "      <th>4</th>\n",
       "      <td>None</td>\n",
       "      <td>2011-02-01</td>\n",
       "      <td>0</td>\n",
       "      <td>0</td>\n",
       "      <td>0</td>\n",
       "    </tr>\n",
       "  </tbody>\n",
       "</table>\n",
       "</div>"
      ],
      "text/plain": [
       "  user_id       month  comment_flag  answer_flag  question_flag\n",
       "0  114916  2009-09-01             0            0              1\n",
       "1  133584  2010-12-01             0            0              1\n",
       "2  543514  2010-12-01             0            0              1\n",
       "3  417899  2011-01-01             0            0              1\n",
       "4    None  2011-02-01             0            0              0"
      ]
     },
     "execution_count": 102,
     "metadata": {},
     "output_type": "execute_result"
    }
   ],
   "source": [
    "active_with_type.head()"
   ]
  },
  {
   "cell_type": "markdown",
   "metadata": {},
   "source": [
    "### 3. Are our active users new user or returning user?"
   ]
  },
  {
   "cell_type": "markdown",
   "metadata": {},
   "source": [
    "We already know who our active users are and what type of engagements they are, but I want to know the new user percentage of the active users. Here, New/Returning Active: If the users has been created in the same month, then “New”, else “Returning” ."
   ]
  },
  {
   "cell_type": "code",
   "execution_count": null,
   "metadata": {},
   "outputs": [],
   "source": [
    "# We can add some new codes based on what we have from the second question."
   ]
  },
  {
   "cell_type": "code",
   "execution_count": 106,
   "metadata": {},
   "outputs": [],
   "source": [
    "# This query is to store the result of the second question\n",
    "query5 = query3 +\\\n",
    "\"\"\"\n",
    ", table2 as (\n",
    "\n",
    "select table1.*, ifnull(a1.comment_flag,0) comment_flag , ifnull(b1.answer_flag,0) answer_flag, ifnull(c1.question_flag,0) question_flag\n",
    "from\n",
    "table1\n",
    "left join \n",
    "(select distinct user_id, date_trunc(date(a.creation_date),month) month, 1 as comment_flag\n",
    "from \n",
    "comment a) a1\n",
    "on table1.user_id = a1.user_id and table1.month = a1.month\n",
    "left join\n",
    "(select distinct b. owner_user_id, date_trunc(date(b.creation_date),month) month, 1 as answer_flag\n",
    "from\n",
    "answer  b) b1\n",
    "on table1.user_id = b1.owner_user_id and table1.month = b1.month\n",
    "left join\n",
    "(select distinct c. owner_user_id, date_trunc(date(c.creation_date),month) month, 1 as question_flag\n",
    "from\n",
    "question c) c1\n",
    "on table1.user_id = c1.owner_user_id and table1.month = c1.month\n",
    "\n",
    ")\n",
    "\"\"\""
   ]
  },
  {
   "cell_type": "code",
   "execution_count": 107,
   "metadata": {},
   "outputs": [],
   "source": [
    "# This query is to get the result of this question\n",
    "query6 = \"\"\"\n",
    "select table2.*, \n",
    "case \n",
    "when table2.month = date_trunc(date(table3.creation_date ),month)\n",
    "then \"New\"\n",
    "else\n",
    "\"Return\"\n",
    "end new_vs_ret\n",
    "from table2\n",
    "left join \n",
    "`bigquery-public-data.stackoverflow.users` table3\n",
    "on\n",
    "table2.user_id = table3.id\n",
    "\"\"\""
   ]
  },
  {
   "cell_type": "code",
   "execution_count": 110,
   "metadata": {
    "scrolled": true
   },
   "outputs": [
    {
     "name": "stderr",
     "output_type": "stream",
     "text": [
      "C:\\Users\\Mengyu\\Anaconda3\\lib\\site-packages\\pandas_gbq\\gbq.py:798: FutureWarning: verbose is deprecated and will be removed in a future version. Set logging level in order to vary verbosity\n",
      "  \"verbosity\", FutureWarning, stacklevel=1)\n"
     ]
    }
   ],
   "source": [
    "active_with_return = gbq.read_gbq(query5+query6, project_id=project_id,dialect = \"standard\")"
   ]
  },
  {
   "cell_type": "code",
   "execution_count": 111,
   "metadata": {
    "scrolled": true
   },
   "outputs": [
    {
     "data": {
      "text/html": [
       "<div>\n",
       "<style scoped>\n",
       "    .dataframe tbody tr th:only-of-type {\n",
       "        vertical-align: middle;\n",
       "    }\n",
       "\n",
       "    .dataframe tbody tr th {\n",
       "        vertical-align: top;\n",
       "    }\n",
       "\n",
       "    .dataframe thead th {\n",
       "        text-align: right;\n",
       "    }\n",
       "</style>\n",
       "<table border=\"1\" class=\"dataframe\">\n",
       "  <thead>\n",
       "    <tr style=\"text-align: right;\">\n",
       "      <th></th>\n",
       "      <th>user_id</th>\n",
       "      <th>month</th>\n",
       "      <th>comment_flag</th>\n",
       "      <th>answer_flag</th>\n",
       "      <th>question_flag</th>\n",
       "      <th>new_vs_ret</th>\n",
       "    </tr>\n",
       "  </thead>\n",
       "  <tbody>\n",
       "    <tr>\n",
       "      <th>0</th>\n",
       "      <td>859154</td>\n",
       "      <td>2013-10-01</td>\n",
       "      <td>0</td>\n",
       "      <td>1</td>\n",
       "      <td>0</td>\n",
       "      <td>Return</td>\n",
       "    </tr>\n",
       "    <tr>\n",
       "      <th>1</th>\n",
       "      <td>554203</td>\n",
       "      <td>2017-01-01</td>\n",
       "      <td>0</td>\n",
       "      <td>1</td>\n",
       "      <td>0</td>\n",
       "      <td>Return</td>\n",
       "    </tr>\n",
       "    <tr>\n",
       "      <th>2</th>\n",
       "      <td>450399</td>\n",
       "      <td>2011-09-01</td>\n",
       "      <td>0</td>\n",
       "      <td>1</td>\n",
       "      <td>0</td>\n",
       "      <td>Return</td>\n",
       "    </tr>\n",
       "    <tr>\n",
       "      <th>3</th>\n",
       "      <td>34088</td>\n",
       "      <td>2010-12-01</td>\n",
       "      <td>0</td>\n",
       "      <td>1</td>\n",
       "      <td>0</td>\n",
       "      <td>Return</td>\n",
       "    </tr>\n",
       "    <tr>\n",
       "      <th>4</th>\n",
       "      <td>51428</td>\n",
       "      <td>2009-01-01</td>\n",
       "      <td>0</td>\n",
       "      <td>1</td>\n",
       "      <td>0</td>\n",
       "      <td>New</td>\n",
       "    </tr>\n",
       "  </tbody>\n",
       "</table>\n",
       "</div>"
      ],
      "text/plain": [
       "  user_id       month  comment_flag  answer_flag  question_flag new_vs_ret\n",
       "0  859154  2013-10-01             0            1              0     Return\n",
       "1  554203  2017-01-01             0            1              0     Return\n",
       "2  450399  2011-09-01             0            1              0     Return\n",
       "3   34088  2010-12-01             0            1              0     Return\n",
       "4   51428  2009-01-01             0            1              0        New"
      ]
     },
     "execution_count": 111,
     "metadata": {},
     "output_type": "execute_result"
    }
   ],
   "source": [
    "active_with_return.head()"
   ]
  },
  {
   "cell_type": "markdown",
   "metadata": {},
   "source": [
    "From active_with_return table, we can easily detect the active status of users in different months. We can know what contribution they make and what status(New/Returning) are they in the specific month. Notice, the number 1 in column xxx_flag does not mean once, but \"yes\"."
   ]
  },
  {
   "cell_type": "markdown",
   "metadata": {},
   "source": [
    "## Data Visualisation with Tableau"
   ]
  },
  {
   "cell_type": "code",
   "execution_count": 120,
   "metadata": {},
   "outputs": [],
   "source": [
    "#let's write the active_with_return table to .hyper file which can be opened by Tableau directly\n",
    "#we need to use pantab package \n",
    "#check https://pypi.python.org/pypi/pantab to learn how to install this package\n",
    "#However, this package is quite new and you can hardly find resources to debug, and I try many times to make it work!\n",
    "#!pip install pantab \n",
    "import pantab\n"
   ]
  },
  {
   "cell_type": "code",
   "execution_count": 125,
   "metadata": {
    "scrolled": true
   },
   "outputs": [
    {
     "name": "stdout",
     "output_type": "stream",
     "text": [
      "<class 'pandas.core.frame.DataFrame'>\n",
      "RangeIndex: 300 entries, 0 to 299\n",
      "Data columns (total 6 columns):\n",
      "user_id          299 non-null object\n",
      "month            300 non-null object\n",
      "comment_flag     300 non-null int64\n",
      "answer_flag      300 non-null int64\n",
      "question_flag    300 non-null int64\n",
      "new_vs_ret       300 non-null object\n",
      "dtypes: int64(3), object(3)\n",
      "memory usage: 14.1+ KB\n"
     ]
    }
   ],
   "source": [
    "active_with_return.info()"
   ]
  },
  {
   "cell_type": "code",
   "execution_count": 222,
   "metadata": {},
   "outputs": [],
   "source": [
    "# Don't forget to drop nulls! \n",
    "active_with_return.dropna(inplace = True)"
   ]
  },
  {
   "cell_type": "code",
   "execution_count": 223,
   "metadata": {},
   "outputs": [],
   "source": [
    "#You should convert the user_id from object to integer!\n",
    "active_with_return.iloc[:,0] = active_with_return.iloc[:,0].astype(\"int\")"
   ]
  },
  {
   "cell_type": "code",
   "execution_count": 217,
   "metadata": {},
   "outputs": [],
   "source": [
    "#You should also convert month from object to datatime!\n",
    "active_with_return.iloc[:,1] = pd.to_datetime(active_with_return.iloc[:,1])"
   ]
  },
  {
   "cell_type": "code",
   "execution_count": 225,
   "metadata": {
    "scrolled": true
   },
   "outputs": [],
   "source": [
    "#Now you can write your dataframe to hyper file, which you can open with tableau directly. Then have fun with your EDA!\n",
    "pantab.frame_to_hyper(active_with_return, 'Avtive User Analysis.hyper')"
   ]
  },
  {
   "cell_type": "markdown",
   "metadata": {},
   "source": [
    "## What Then?\n",
    "SQL is a good tool for data manipulation and extraction, and once you get the data you need, you can do whatever you want!\n",
    "<cd>For example, you can run a clustering model to group different users based on their active patterns. \n",
    "<cd>You can run a customer churn model to predict which user won't return again.\n",
    "<cd>You can also do a fancy dashboard to monitor the new users and returning users"
   ]
  }
 ],
 "metadata": {
  "kernelspec": {
   "display_name": "Python [conda env:Anaconda3]",
   "language": "python",
   "name": "conda-env-Anaconda3-py"
  },
  "language_info": {
   "codemirror_mode": {
    "name": "ipython",
    "version": 3
   },
   "file_extension": ".py",
   "mimetype": "text/x-python",
   "name": "python",
   "nbconvert_exporter": "python",
   "pygments_lexer": "ipython3",
   "version": "3.6.4"
  }
 },
 "nbformat": 4,
 "nbformat_minor": 2
}
